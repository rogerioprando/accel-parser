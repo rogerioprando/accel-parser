{
 "cells": [
  {
   "cell_type": "markdown",
   "metadata": {},
   "source": [
    "## Parser dos dados de Acelerômetro (Ximango e CO)"
   ]
  },
  {
   "cell_type": "markdown",
   "metadata": {},
   "source": [
    "Do ximango são extraídos os dados de acelerômetro de todos veículos ativos (.csv), não há informação do Ximango sobre data/hora de início/fim de viagem, veículo ou linha.\n",
    "Os dados das viagens realizadas são extraídos do CO, nesse caso é um período específico por cada veículo.\n",
    "\n",
    "OBS: No primeiro momento está sendo importado somente dados de ximango e co referente a uma linha específica. (Linha 360)"
   ]
  },
  {
   "cell_type": "markdown",
   "metadata": {},
   "source": [
    "### 1. Lendo dados Ximango"
   ]
  },
  {
   "cell_type": "code",
   "execution_count": null,
   "metadata": {
    "scrolled": true
   },
   "outputs": [],
   "source": [
    "import pandas as pd\n",
    "import numpy as np\n",
    "from IPython.display import display, HTML\n",
    "import matplotlib as plt"
   ]
  },
  {
   "cell_type": "code",
   "execution_count": null,
   "metadata": {
    "scrolled": true
   },
   "outputs": [],
   "source": [
    "df = pd.read_csv('/home/rogerio/Teste-Linha360.csv', \n",
    "                 sep=r'\\,|\\;',\n",
    "                 header=None,\n",
    "                 usecols=[1,3,4,5,6,7,9,10,11,12,13,14,15,16],\n",
    "                 engine='python')\n",
    "df.rename(columns={1:\"time\", \n",
    "                   3:\"yn\", \n",
    "                   4:\"lat_yn\", \n",
    "                   5:\"lon_yn\", \n",
    "                   6:\"yp\", \n",
    "                   7:\"lat_yp\", \n",
    "                   9:\"lon_yp\", \n",
    "                   10:\"xn\", \n",
    "                   11:\"lat_xn\", \n",
    "                   12:\"lon_xn\", \n",
    "                   13:\"xp\", \n",
    "                   14:\"lat_xp\", \n",
    "                   15:\"lon_xp\", \n",
    "                   16:\"id\"}, \n",
    "          inplace=True)\n",
    "df['time'] = pd.to_datetime(df.time,format='%d%m%y%H%M%S')\n",
    "df['time'] = df.time + pd.to_timedelta(-2,unit='h')\n",
    "df['yn'] = df.yn.apply(lambda x: 4294967000+x-4294967296)\n",
    "df['xn'] = df.xn.apply(lambda x: 4294967000+x-4294967296)\n",
    "df['id'] = pd.Series(df['id']).str.replace('ID=', '', regex=True)\n",
    "df['id'] = pd.to_numeric(df['id'])\n",
    "\n",
    "df.head(2)"
   ]
  },
  {
   "cell_type": "markdown",
   "metadata": {},
   "source": [
    "### 2. Lendo dados  CO"
   ]
  },
  {
   "cell_type": "code",
   "execution_count": null,
   "metadata": {
    "scrolled": true
   },
   "outputs": [],
   "source": [
    "dfco = pd.read_csv('/home/rogerio/Teste-Linha360CO.csv',\n",
    "                   header=None,\n",
    "                   usecols=[0,1,2,3,4,5],\n",
    "                   engine='python')\n",
    "dfco.rename(columns={0:\"id_v\",\n",
    "                     1:\"id\",\n",
    "                     2:\"trip_time\",\n",
    "                     3:\"line\",\n",
    "                     4:\"pc\",\n",
    "                     5:\"sentido\"},\n",
    "            inplace=True)\n",
    "dfco['trip_time'] = pd.to_datetime(dfco.trip_time,format='%d/%m/%y %H:%M:%S')\n",
    "\n",
    "dfco.head(2)"
   ]
  },
  {
   "cell_type": "markdown",
   "metadata": {},
   "source": [
    "### 3. Manipulando os dados\n",
    "#### 3.1 Ximango\n",
    "Separar os eventos por id (chave externa, virloc)\n",
    "Para cada id usar os dados de viagem (dt inicio e data fim) do CO para separar as viagens contindas em cada ID."
   ]
  },
  {
   "cell_type": "code",
   "execution_count": null,
   "metadata": {
    "scrolled": true
   },
   "outputs": [],
   "source": [
    "# remove lat, long (nesse momento não preisa)\n",
    "df = df[['time', 'yn', 'yp', 'xn', 'xp', 'id']]\n",
    "\n",
    "# divisão do df em IDs\n",
    "# minha key será o id do df e o valor é o df.\n",
    "g = df.groupby('id')\n",
    "\n",
    "# for g_id, g_id_df in g:\n",
    "#     # g_id: key \n",
    "#     # g_id_df: valores (dataframe separado de cada key)\n",
    "#     display(g_id)\n",
    "#     display(g_id_df.head(2))\n",
    "    \n",
    "#df.groupby('id').mean()\n",
    "#df.groupby('id').xp.agg(['count', 'min', 'max','mean', 'std'])"
   ]
  },
  {
   "cell_type": "markdown",
   "metadata": {},
   "source": [
    "#### 3.2 Estatística de todos os eventos da Linha 360, separado por veículos.\n",
    "\n",
    "Tabela:"
   ]
  },
  {
   "cell_type": "code",
   "execution_count": null,
   "metadata": {
    "scrolled": true
   },
   "outputs": [],
   "source": [
    "g.agg(['max','min','mean','std'])"
   ]
  },
  {
   "cell_type": "markdown",
   "metadata": {},
   "source": [
    "#### Gráfico do Desvio Padrão de todas as viagens (separados por veículo)"
   ]
  },
  {
   "cell_type": "code",
   "execution_count": null,
   "metadata": {
    "scrolled": true
   },
   "outputs": [],
   "source": [
    "a = g.agg(['std'])\n",
    "a.reset_index(inplace=True)\n",
    "a_plot = a.set_index('id').T\n",
    "a_plot.plot.bar(figsize=(15,9), xticks=range(0, 8), grid=True).legend(title='Desvio Padrão', bbox_to_anchor=(1, 1))\n"
   ]
  },
  {
   "cell_type": "markdown",
   "metadata": {},
   "source": [
    "#### Gráfico da Média de todas as eventos (separados por veículo)"
   ]
  },
  {
   "cell_type": "code",
   "execution_count": null,
   "metadata": {
    "scrolled": true
   },
   "outputs": [],
   "source": [
    "a = g.agg(['mean'])\n",
    "a.reset_index(inplace=True)\n",
    "a_plot = a.set_index('id').T\n",
    "a_plot.plot.bar(figsize=(15,9), grid=True).legend(title='Média', bbox_to_anchor=(1, 1))\n"
   ]
  },
  {
   "cell_type": "markdown",
   "metadata": {},
   "source": [
    "#### 3.2 CO\n",
    "Obter as viagens com data inicio/fim e id veículo."
   ]
  },
  {
   "cell_type": "code",
   "execution_count": null,
   "metadata": {
    "scrolled": true
   },
   "outputs": [],
   "source": [
    "gco = dfco.groupby('id')\n",
    "\n",
    "# for gco_id, gco_id_df in gco:\n",
    "#     # gco_id: key \n",
    "#     # gco_id_df: valores (dataframe separado das viagens com cada id veic)\n",
    "#     display(gco_id)\n",
    "#     display(gco_id_df)"
   ]
  },
  {
   "cell_type": "markdown",
   "metadata": {},
   "source": [
    "DataFrame gco está agrupado por id.\n",
    "Cada id (veículo) possui todas as viagens do período selecionado.\n",
    "Considerando que <font color='red'>as viagens selecionadas (.csv co) não possuem problema de duplicidade de horário, pc e já estão com índice <b>i</b>  para inicio e índice  <b>i+1</b> para fim</font> o parser cria uma máscara para agrupar os eventos do ximango de acordo com essas viagens.\n"
   ]
  },
  {
   "cell_type": "code",
   "execution_count": null,
   "metadata": {
    "scrolled": true
   },
   "outputs": [],
   "source": [
    "df_trip = pd.DataFrame({'id_v':[], 'id':[], 'start':[], 'end':[]})\n",
    "\n",
    "# em cada veículo\n",
    "for gco_id, gco_id_df in gco:\n",
    "    # em cada evento (viagens de cada veículo)\n",
    "    for i in range(0, len(gco_id_df)-1, 2):\n",
    "        start_date = gco_id_df.iloc[i]['trip_time']\n",
    "        end_date = gco_id_df.iloc[i+1]['trip_time']\n",
    "        id_v = gco_id_df.iloc[i]['id_v']\n",
    "        df_trip = df_trip.append({'id_v':id_v, 'id':gco_id, 'start':start_date, 'end':end_date}, ignore_index=True)\n",
    "        i = i + 2"
   ]
  },
  {
   "cell_type": "markdown",
   "metadata": {},
   "source": [
    "Dataframe df_trip contém o início e final de cada viagem."
   ]
  },
  {
   "cell_type": "code",
   "execution_count": null,
   "metadata": {
    "scrolled": true
   },
   "outputs": [],
   "source": [
    "df_trip['id'] = df_trip['id'].astype(np.int64)\n",
    "df_trip['id_v'] = df_trip['id_v'].astype(np.int64)\n",
    "\n",
    "df_trip.head(10)"
   ]
  },
  {
   "cell_type": "markdown",
   "metadata": {},
   "source": [
    "### 4. Visualização e Resultados"
   ]
  },
  {
   "cell_type": "markdown",
   "metadata": {},
   "source": [
    "#### 4.1 Eventos de acelerômetro separado por viagem"
   ]
  },
  {
   "cell_type": "code",
   "execution_count": null,
   "metadata": {
    "scrolled": true
   },
   "outputs": [],
   "source": [
    "count = 0\n",
    "for i in range(len(df_trip)):\n",
    "    start_date = df_trip.iloc[i]['start']\n",
    "    end_date = df_trip.iloc[i]['end']\n",
    "    mask = (df['time'] > start_date ) & (df['time'] < end_date )\n",
    "    df_vg = df.loc[mask]\n",
    "    if df_vg.count()['yn'] != 0:\n",
    "        display(\"Veículo: {}/{} || Dur: {} || Início: {} Fim: {}\" .format(df_trip.iloc[i]['id'],\n",
    "                                                                      df_trip.iloc[i]['id_v'],\n",
    "                                                                      (df_trip.iloc[i]['end'] - df_trip.iloc[i]['start']),           \n",
    "                                                                      df_trip.iloc[i]['start'],\n",
    "                                                                      df_trip.iloc[i]['end']))\n",
    "        display(df_vg)\n",
    "    count = count + 1\n"
   ]
  },
  {
   "cell_type": "code",
   "execution_count": null,
   "metadata": {
    "scrolled": true
   },
   "outputs": [],
   "source": [
    "# # teste de lista de dataframes\n",
    "# df_eventos = []\n",
    "# count = 0\n",
    "# for i in range(len(df_trip)):\n",
    "#     start_date = df_trip.iloc[i]['start']\n",
    "#     end_date = df_trip.iloc[i]['end']\n",
    "#     mask = (df['time'] > start_date ) & (df['time'] < end_date )\n",
    "#     df_vg = df.loc[mask]\n",
    "#     if df_vg.count()['yn'] != 0:\n",
    "#         df_eventos.append(df_vg)\n",
    "#     count = count + 1"
   ]
  },
  {
   "cell_type": "markdown",
   "metadata": {},
   "source": [
    "#### 4.2 Estatística de cada Viagem"
   ]
  },
  {
   "cell_type": "code",
   "execution_count": null,
   "metadata": {},
   "outputs": [],
   "source": [
    "count = 0\n",
    "for i in range(len(df_trip)):\n",
    "    start_date = df_trip.iloc[i]['start']\n",
    "    end_date = df_trip.iloc[i]['end']\n",
    "    mask = (df['time'] > start_date ) & (df['time'] < end_date )\n",
    "    df_vg = df.loc[mask]\n",
    "    if df_vg.count()['yn'] != 0:    \n",
    "        display(\"Veículo: {}/{} || Dur: {} || Início: {} Fim: {}\" .format(df_trip.iloc[i]['id'],\n",
    "                                                                      df_trip.iloc[i]['id_v'],\n",
    "                                                                      (df_trip.iloc[i]['end'] - df_trip.iloc[i]['start']),           \n",
    "                                                                      df_trip.iloc[i]['start'],\n",
    "                                                                      df_trip.iloc[i]['end']))\n",
    "        display(df_vg.agg(['count', 'min', 'max','mean', 'std']))\n",
    "    count = count + 1"
   ]
  },
  {
   "cell_type": "markdown",
   "metadata": {},
   "source": [
    "#### 4.3 Gráficos de cada Viagem"
   ]
  },
  {
   "cell_type": "code",
   "execution_count": null,
   "metadata": {
    "scrolled": true
   },
   "outputs": [],
   "source": [
    "# quando ultrapassa de 20 gráficos é exibido um aviso que pode consumir muita memória\n",
    "plt.rcParams.update({'figure.max_open_warning': 0})\n",
    "\n",
    "%matplotlib inline\n",
    "for i in range(len(df_trip)):\n",
    "    start_date = df_trip.iloc[i]['start']\n",
    "    end_date = df_trip.iloc[i]['end']\n",
    "    mask = (df['time'] > start_date ) & (df['time'] < end_date )\n",
    "    df_vg = df.loc[mask]\n",
    "    if df_vg.count()['yn'] != 0:\n",
    "        df_vg.plot('time',['xp','yp','xn','yn'], marker='o', figsize=(15,10), grid=True).legend(\n",
    "            title=str(df_trip.iloc[i]['id'])+' // '+str(df_trip.iloc[i]['start']), bbox_to_anchor=(1,1))\n"
   ]
  },
  {
   "cell_type": "markdown",
   "metadata": {},
   "source": [
    "#### 4.4 Gráficos Estatística de cada Viagem"
   ]
  },
  {
   "cell_type": "code",
   "execution_count": null,
   "metadata": {
    "scrolled": false
   },
   "outputs": [],
   "source": [
    "count = 0\n",
    "for i in range(len(df_trip)):\n",
    "    start_date = df_trip.iloc[i]['start']\n",
    "    end_date = df_trip.iloc[i]['end']\n",
    "    mask = (df['time'] > start_date ) & (df['time'] < end_date )\n",
    "    df_vg = df.loc[mask]\n",
    "    if df_vg.count()['yn'] != 0:    \n",
    "        b = df_vg.agg(['mean', 'std'])\n",
    "        b[['yn','yp','xn','xp']].plot.barh(figsize=(12,8), grid=True).legend(title=str(df_trip.iloc[i]['id'])+' // '+str(df_trip.iloc[i]['start']), bbox_to_anchor=(1,1))\n",
    "    count = count + 1\n",
    "\n",
    "# figsize=(15,10), grid=True).legend(\n",
    "# title=str(df_trip.iloc[i]['id'])+' // '+str(df_trip.iloc[i]['start']), bbox_to_anchor=(1,1))\n"
   ]
  }
 ],
 "metadata": {
  "kernelspec": {
   "display_name": "Python 3",
   "language": "python",
   "name": "python3"
  },
  "language_info": {
   "codemirror_mode": {
    "name": "ipython",
    "version": 3
   },
   "file_extension": ".py",
   "mimetype": "text/x-python",
   "name": "python",
   "nbconvert_exporter": "python",
   "pygments_lexer": "ipython3",
   "version": "3.7.0"
  }
 },
 "nbformat": 4,
 "nbformat_minor": 2
}
