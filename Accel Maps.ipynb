{
 "cells": [
  {
   "cell_type": "markdown",
   "metadata": {},
   "source": [
    "### Mapa dos dados de Acelerômetro\n"
   ]
  },
  {
   "cell_type": "code",
   "execution_count": 211,
   "metadata": {},
   "outputs": [],
   "source": [
    "import pandas as pd\n",
    "import os\n",
    "import gmaps\n",
    "import gmaps.datasets\n",
    "from IPython.display import display, HTML"
   ]
  },
  {
   "cell_type": "code",
   "execution_count": 212,
   "metadata": {},
   "outputs": [],
   "source": [
    "# API KEY"
   ]
  },
  {
   "cell_type": "code",
   "execution_count": 219,
   "metadata": {
    "scrolled": false
   },
   "outputs": [
    {
     "data": {
      "application/vnd.jupyter.widget-view+json": {
       "model_id": "84173a08ddaa4048b8023dae62531c51",
       "version_major": 2,
       "version_minor": 0
      },
      "text/plain": [
       "Figure(layout=FigureLayout(height='420px'))"
      ]
     },
     "metadata": {},
     "output_type": "display_data"
    }
   ],
   "source": [
    "floripa_coordinates = (-27.594, -48.547)\n",
    "gmaps.figure(center=floripa_coordinates, zoom_level=12)"
   ]
  },
  {
   "cell_type": "code",
   "execution_count": 164,
   "metadata": {},
   "outputs": [
    {
     "data": {
      "text/html": [
       "<div>\n",
       "<style scoped>\n",
       "    .dataframe tbody tr th:only-of-type {\n",
       "        vertical-align: middle;\n",
       "    }\n",
       "\n",
       "    .dataframe tbody tr th {\n",
       "        vertical-align: top;\n",
       "    }\n",
       "\n",
       "    .dataframe thead th {\n",
       "        text-align: right;\n",
       "    }\n",
       "</style>\n",
       "<table border=\"1\" class=\"dataframe\">\n",
       "  <thead>\n",
       "    <tr style=\"text-align: right;\">\n",
       "      <th></th>\n",
       "      <th>time</th>\n",
       "      <th>yn</th>\n",
       "      <th>lat_yn</th>\n",
       "      <th>lon_yn</th>\n",
       "      <th>yp</th>\n",
       "      <th>lat_yp</th>\n",
       "      <th>lon_yp</th>\n",
       "      <th>xn</th>\n",
       "      <th>lat_xn</th>\n",
       "      <th>lon_xn</th>\n",
       "      <th>xp</th>\n",
       "      <th>lat_xp</th>\n",
       "      <th>lon_xp</th>\n",
       "      <th>id</th>\n",
       "    </tr>\n",
       "  </thead>\n",
       "  <tbody>\n",
       "    <tr>\n",
       "      <th>0</th>\n",
       "      <td>2018-11-14 14:16:20</td>\n",
       "      <td>-24</td>\n",
       "      <td>-27.57529</td>\n",
       "      <td>-48.42515</td>\n",
       "      <td>15</td>\n",
       "      <td>-27.57503</td>\n",
       "      <td>-48.42331</td>\n",
       "      <td>-29</td>\n",
       "      <td>-27.57496</td>\n",
       "      <td>-48.42337</td>\n",
       "      <td>45</td>\n",
       "      <td>-27.57520</td>\n",
       "      <td>-48.42416</td>\n",
       "      <td>4149</td>\n",
       "    </tr>\n",
       "    <tr>\n",
       "      <th>1</th>\n",
       "      <td>2018-11-14 14:16:49</td>\n",
       "      <td>-22</td>\n",
       "      <td>-27.57537</td>\n",
       "      <td>-48.42606</td>\n",
       "      <td>18</td>\n",
       "      <td>-27.57538</td>\n",
       "      <td>-48.42621</td>\n",
       "      <td>-17</td>\n",
       "      <td>-27.57530</td>\n",
       "      <td>-48.42532</td>\n",
       "      <td>17</td>\n",
       "      <td>-27.57534</td>\n",
       "      <td>-48.42552</td>\n",
       "      <td>4149</td>\n",
       "    </tr>\n",
       "  </tbody>\n",
       "</table>\n",
       "</div>"
      ],
      "text/plain": [
       "                 time  yn    lat_yn    lon_yn  yp    lat_yp    lon_yp  xn  \\\n",
       "0 2018-11-14 14:16:20 -24 -27.57529 -48.42515  15 -27.57503 -48.42331 -29   \n",
       "1 2018-11-14 14:16:49 -22 -27.57537 -48.42606  18 -27.57538 -48.42621 -17   \n",
       "\n",
       "     lat_xn    lon_xn  xp    lat_xp    lon_xp    id  \n",
       "0 -27.57496 -48.42337  45 -27.57520 -48.42416  4149  \n",
       "1 -27.57530 -48.42532  17 -27.57534 -48.42552  4149  "
      ]
     },
     "execution_count": 164,
     "metadata": {},
     "output_type": "execute_result"
    }
   ],
   "source": [
    "df = pd.read_csv('/home/rogerio/Teste-Linha360.csv', \n",
    "                 sep=r'\\,|\\;',\n",
    "                 header=None,\n",
    "                 usecols=[1,3,4,5,6,7,8,10,11,12,13,14,15,16],\n",
    "                 engine='python')\n",
    "df.rename(columns={1:\"time\", \n",
    "                   3:\"yn\", \n",
    "                   4:\"lat_yn\", \n",
    "                   5:\"lon_yn\", \n",
    "                   6:\"yp\", \n",
    "                   7:\"lat_yp\", \n",
    "                   8:\"lon_yp\", \n",
    "                   10:\"xn\", \n",
    "                   11:\"lat_xn\", \n",
    "                   12:\"lon_xn\", \n",
    "                   13:\"xp\", \n",
    "                   14:\"lat_xp\", \n",
    "                   15:\"lon_xp\", \n",
    "                   16:\"id\"}, \n",
    "          inplace=True)\n",
    "\n",
    "df['time'] = pd.to_datetime(df.time,format='%d%m%y%H%M%S')\n",
    "df['time'] = df.time + pd.to_timedelta(-2,unit='h')\n",
    "df['yn'] = df.yn.apply(lambda x: 4294967000+x-4294967296)\n",
    "df['xn'] = df.xn.apply(lambda x: 4294967000+x-4294967296)\n",
    "df['id'] = pd.Series(df['id']).str.replace('ID=', '', regex=True)\n",
    "df['id'] = pd.to_numeric(df['id'])\n",
    "\n",
    "df.head(2)"
   ]
  },
  {
   "cell_type": "code",
   "execution_count": 220,
   "metadata": {},
   "outputs": [
    {
     "data": {
      "application/vnd.jupyter.widget-view+json": {
       "model_id": "9d9a1e480e0c4fd2b81facb79ca21a05",
       "version_major": 2,
       "version_minor": 0
      },
      "text/plain": [
       "Figure(layout=FigureLayout(height='500px', width='900px'))"
      ]
     },
     "metadata": {},
     "output_type": "display_data"
    }
   ],
   "source": [
    "# TESTE DE PLOTAR GRÁFICO COM GRADIENTE DE ACORDO COM VALOR DA ACCEL.\n",
    "# Gerar o gradiente:\n",
    "# https://meyerweb.com/eric/tools/color-blend/#:::rgbd \n",
    "\n",
    "\n",
    "df_yn = df[['lat_yn', 'lon_yn']]\n",
    "\n",
    "df_yn_1 = df_yn[df.yn > -15]\n",
    "df_yn_2 = df_yn[df['yn'].between(-25,-15)]\n",
    "df_yn_3 = df_yn[df['yn'].between(-40,-26)]\n",
    "df_yn_4 = df_yn[df['yn'].between(-55,-41)]\n",
    "#df_yn_5 = df_yn[df['yn'].between(-70,-56)]\n",
    "#df_yn_6 = df_yn[df.yn < -70]\n",
    "\n",
    "df_layer_yn1 = gmaps.symbol_layer(df_yn_1, fill_color=(0,0,255), stroke_color=(0,0,255), scale=3)\n",
    "df_layer_yn2 = gmaps.symbol_layer(df_yn_2, fill_color=(0,255,255), stroke_color=(0,255,255), scale=3)\n",
    "df_layer_yn3 = gmaps.symbol_layer(df_yn_3, fill_color=(0,255,0), stroke_color=(0,255,0), scale=3)\n",
    "df_layer_yn4 = gmaps.symbol_layer(df_yn_4, fill_color=(255,255,0), stroke_color=(255,255,0), scale=3)\n",
    "#df_layer_yn5 = gmaps.symbol_layer(df_yn_5, fill_color=(100,0,0), stroke_color=(100,0,0), scale=2)\n",
    "#df_layer_yn6 = gmaps.symbol_layer(df_yn_6, fill_color=(100,0,0), stroke_color=(100,0,0), scale=2)\n",
    "\n",
    "\n",
    "fig = gmaps.figure(map_type='ROADMAP', layout={'width': '900px', 'height': '500px'})\n",
    "\n",
    "fig.add_layer(df_layer_yn1)\n",
    "fig.add_layer(df_layer_yn2)\n",
    "fig.add_layer(df_layer_yn3)\n",
    "fig.add_layer(df_layer_yn4)\n",
    "#fig.add_layer(df_layer_yn5)\n",
    "#fig.add_layer(df_layer_yn6)\n",
    "\n",
    "fig\n"
   ]
  },
  {
   "cell_type": "code",
   "execution_count": 225,
   "metadata": {},
   "outputs": [
    {
     "data": {
      "application/vnd.jupyter.widget-view+json": {
       "model_id": "87c09e7f3d3c45d6b9ae65abbee9d88f",
       "version_major": 2,
       "version_minor": 0
      },
      "text/plain": [
       "Figure(layout=FigureLayout(height='420px'))"
      ]
     },
     "metadata": {},
     "output_type": "display_data"
    }
   ],
   "source": [
    "# Gráfico heatmap por faixa de valor do acelerômetro\n",
    "\n",
    "df_yp = df[['lat_yp', 'lon_yp', 'yp']]\n",
    "df_yp_1 = df_yp[df['yp'].between(10,20)]\n",
    "df_yp_2 = df_yp[df['yp'].between(20,30)]\n",
    "df_yp_3 = df_yp[df['yp'].between(30,40)]\n",
    "df_yp_4 = df_yp[df['yp'].between(40,50)]\n",
    "\n",
    "fig = gmaps.figure()\n",
    "fig.add_layer(gmaps.heatmap_layer(df_yp_4[['lat_yp','lon_yp']], weights=df_yp_4['yp']))\n",
    "fig\n"
   ]
  }
 ],
 "metadata": {
  "kernelspec": {
   "display_name": "Python 3",
   "language": "python",
   "name": "python3"
  },
  "language_info": {
   "codemirror_mode": {
    "name": "ipython",
    "version": 3
   },
   "file_extension": ".py",
   "mimetype": "text/x-python",
   "name": "python",
   "nbconvert_exporter": "python",
   "pygments_lexer": "ipython3",
   "version": "3.7.0"
  }
 },
 "nbformat": 4,
 "nbformat_minor": 2
}
